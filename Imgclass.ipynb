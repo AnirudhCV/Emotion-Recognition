{
 "cells": [
  {
   "cell_type": "code",
   "execution_count": 1,
   "id": "08ecea4e",
   "metadata": {},
   "outputs": [],
   "source": [
    "from tqdm import tqdm\n",
    "import time\n",
    "import numpy as np \n",
    "import pandas as pd\n",
    "from sklearn.tree import DecisionTreeClassifier\n",
    "import skimage.io as io\n",
    "from skimage.io import imread_collection\n",
    "from sklearn import preprocessing\n",
    "from skimage.feature import hog\n",
    "import matplotlib.pyplot as plt\n",
    "import os\n",
    "import glob\n",
    "from PIL import Image, ImageFilter"
   ]
  },
  {
   "cell_type": "code",
   "execution_count": 2,
   "id": "eb21203e",
   "metadata": {},
   "outputs": [],
   "source": [
    "from sklearn import linear_model,svm,metrics\n",
    "from sklearn.model_selection import train_test_split"
   ]
  },
  {
   "cell_type": "code",
   "execution_count": 3,
   "id": "6d3edeea",
   "metadata": {},
   "outputs": [],
   "source": [
    "X = pd.read_csv('train.csv')\n",
    "Y = pd.read_csv('test.csv')"
   ]
  },
  {
   "cell_type": "code",
   "execution_count": 6,
   "id": "c2a92ded",
   "metadata": {},
   "outputs": [],
   "source": [
    "xtrain = X.iloc[:,2:902]\n",
    "ytrain = X['900']\n",
    "xtest = Y.iloc[:,1:901]\n",
    "ytest = Y['900']"
   ]
  },
  {
   "cell_type": "code",
   "execution_count": 8,
   "id": "162fbbbe",
   "metadata": {},
   "outputs": [
    {
     "name": "stdout",
     "output_type": "stream",
     "text": [
      "              0         1         2         3         4         5         6  \\\n",
      "0      0.236927  0.269290  0.260817  0.024606  0.187094  0.013559  0.030569   \n",
      "1      0.375347  0.256646  0.018823  0.013986  0.139792  0.000000  0.003092   \n",
      "2      0.301683  0.301683  0.021224  0.001865  0.008142  0.000000  0.001279   \n",
      "3      0.113634  0.375097  0.166437  0.038052  0.100244  0.017011  0.060997   \n",
      "4      0.012661  0.008612  0.005314  0.003734  0.011690  0.002801  0.010183   \n",
      "...         ...       ...       ...       ...       ...       ...       ...   \n",
      "28704  0.095519  0.125643  0.023657  0.036335  0.064321  0.015050  0.027599   \n",
      "28705  0.288954  0.246246  0.028479  0.022261  0.094003  0.023888  0.017042   \n",
      "28706  0.248773  0.338765  0.000000  0.148120  0.243281  0.014438  0.030707   \n",
      "28707  0.297100  0.295038  0.056008  0.096251  0.026158  0.010851  0.019044   \n",
      "28708  0.162404  0.259857  0.259857  0.041571  0.176210  0.005086  0.022469   \n",
      "\n",
      "              7         8         9  ...       890       891       892  \\\n",
      "0      0.049011  0.130398  0.269290  ...  0.122064  0.088748  0.000000   \n",
      "1      0.017413  0.068171  0.153842  ...  0.000000  0.318264  0.318264   \n",
      "2      0.001011  0.035766  0.294446  ...  0.100239  0.270050  0.130743   \n",
      "3      0.189607  0.208238  0.375097  ...  0.129272  0.291586  0.111903   \n",
      "4      0.000934  0.027480  0.335394  ...  0.235185  0.282911  0.132390   \n",
      "...         ...       ...       ...  ...       ...       ...       ...   \n",
      "28704  0.010052  0.017633  0.316621  ...  0.000000  0.281703  0.065163   \n",
      "28705  0.094657  0.169361  0.288954  ...  0.134182  0.285393  0.285393   \n",
      "28706  0.020128  0.081484  0.098461  ...  0.294770  0.294770  0.273242   \n",
      "28707  0.018612  0.167946  0.297100  ...  0.337020  0.326174  0.009198   \n",
      "28708  0.036356  0.027501  0.067997  ...  0.045689  0.153845  0.323130   \n",
      "\n",
      "            893       894       895       896       897       898       899  \n",
      "0      0.000000  0.014694  0.147496  0.281900  0.285391  0.144431  0.005088  \n",
      "1      0.037760  0.028152  0.085437  0.062059  0.060384  0.106326  0.318264  \n",
      "2      0.171979  0.159275  0.270050  0.190378  0.270050  0.166248  0.207517  \n",
      "3      0.308268  0.051875  0.098148  0.054009  0.013886  0.022340  0.088158  \n",
      "4      0.060170  0.004423  0.101689  0.008760  0.124549  0.256593  0.272518  \n",
      "...         ...       ...       ...       ...       ...       ...       ...  \n",
      "28704  0.091665  0.287889  0.287889  0.052439  0.164850  0.056745  0.030718  \n",
      "28705  0.285393  0.002244  0.120006  0.032733  0.040282  0.005176  0.058813  \n",
      "28706  0.054298  0.001250  0.092807  0.055424  0.047138  0.010591  0.109509  \n",
      "28707  0.057961  0.005985  0.097503  0.043859  0.241965  0.293752  0.071754  \n",
      "28708  0.005309  0.008394  0.021272  0.011192  0.011590  0.044406  0.062898  \n",
      "\n",
      "[28709 rows x 900 columns] 0           angry\n",
      "1           angry\n",
      "2           angry\n",
      "3           angry\n",
      "4           angry\n",
      "           ...   \n",
      "28704    surprise\n",
      "28705    surprise\n",
      "28706    surprise\n",
      "28707    surprise\n",
      "28708    surprise\n",
      "Name: 900, Length: 28709, dtype: object\n",
      "(28709, 900) (28709,)\n"
     ]
    }
   ],
   "source": [
    "print(xtrain,ytrain)\n",
    "print(xtrain.shape,ytrain.shape)"
   ]
  },
  {
   "cell_type": "code",
   "execution_count": 9,
   "id": "e763514f",
   "metadata": {},
   "outputs": [
    {
     "name": "stdout",
     "output_type": "stream",
     "text": [
      "             0         1         2         3         4         5         6  \\\n",
      "0     0.256441  0.153981  0.256441  0.100254  0.152125  0.024297  0.182082   \n",
      "1     0.095931  0.054529  0.198330  0.186632  0.339750  0.239490  0.074035   \n",
      "2     0.289277  0.051690  0.000000  0.011619  0.085676  0.165210  0.074938   \n",
      "3     0.125531  0.026772  0.023381  0.010722  0.289026  0.126535  0.219998   \n",
      "4     0.007818  0.000000  0.000000  0.000000  0.000000  0.000000  0.000000   \n",
      "...        ...       ...       ...       ...       ...       ...       ...   \n",
      "7173  0.257689  0.210449  0.001226  0.024208  0.010400  0.020849  0.038666   \n",
      "7174  0.232570  0.096617  0.108412  0.063117  0.084375  0.041499  0.017555   \n",
      "7175  0.225891  0.224982  0.244414  0.145955  0.177314  0.031713  0.000000   \n",
      "7176  0.290448  0.290448  0.068049  0.021182  0.075819  0.008791  0.000000   \n",
      "7177  0.242859  0.240453  0.048992  0.030137  0.120691  0.024080  0.026951   \n",
      "\n",
      "             7         8         9  ...       890       891       892  \\\n",
      "0     0.150893  0.210137  0.256441  ...  0.023308  0.158919  0.054593   \n",
      "1     0.065658  0.055465  0.018039  ...  0.150509  0.153683  0.041651   \n",
      "2     0.030921  0.289277  0.183768  ...  0.097365  0.062926  0.156849   \n",
      "3     0.114278  0.089942  0.235124  ...  0.264945  0.334373  0.161109   \n",
      "4     0.000000  0.000000  0.357066  ...  0.152395  0.342157  0.342157   \n",
      "...        ...       ...       ...  ...       ...       ...       ...   \n",
      "7173  0.232084  0.257689  0.163711  ...  0.310415  0.064540  0.068558   \n",
      "7174  0.021802  0.071877  0.179502  ...  0.194845  0.064511  0.020723   \n",
      "7175  0.006876  0.036774  0.061208  ...  0.094463  0.289210  0.160621   \n",
      "7176  0.000000  0.086701  0.152580  ...  0.058528  0.294516  0.294516   \n",
      "7177  0.019957  0.057372  0.077859  ...  0.291243  0.086782  0.116394   \n",
      "\n",
      "           893       894       895       896       897       898       899  \n",
      "0     0.010635  0.008669  0.200508  0.244448  0.105147  0.092931  0.062444  \n",
      "1     0.000000  0.018634  0.121125  0.244424  0.139250  0.244424  0.164721  \n",
      "2     0.102869  0.009653  0.041126  0.007997  0.012644  0.030437  0.016531  \n",
      "3     0.000000  0.000000  0.040074  0.008832  0.033869  0.110222  0.119281  \n",
      "4     0.048668  0.000000  0.052275  0.000000  0.000000  0.026144  0.063202  \n",
      "...        ...       ...       ...       ...       ...       ...       ...  \n",
      "7173  0.085574  0.164858  0.136141  0.008830  0.029339  0.039509  0.036636  \n",
      "7174  0.020490  0.000000  0.141594  0.195437  0.250455  0.245270  0.071652  \n",
      "7175  0.289210  0.079426  0.116180  0.092455  0.021446  0.036913  0.079629  \n",
      "7176  0.197969  0.133245  0.294516  0.016549  0.058053  0.058105  0.037005  \n",
      "7177  0.146631  0.125688  0.291243  0.205092  0.034470  0.024922  0.013749  \n",
      "\n",
      "[7178 rows x 900 columns] 0          angry\n",
      "1          angry\n",
      "2          angry\n",
      "3          angry\n",
      "4          angry\n",
      "          ...   \n",
      "7173    surprise\n",
      "7174    surprise\n",
      "7175    surprise\n",
      "7176    surprise\n",
      "7177    surprise\n",
      "Name: 900, Length: 7178, dtype: object\n",
      "(7178, 900) (7178,)\n"
     ]
    }
   ],
   "source": [
    "print(xtest,ytest)\n",
    "print(xtest.shape,ytest.shape)"
   ]
  },
  {
   "cell_type": "code",
   "execution_count": 18,
   "id": "caaedff0",
   "metadata": {},
   "outputs": [
    {
     "name": "stdout",
     "output_type": "stream",
     "text": [
      "0.5321816662022848\n"
     ]
    }
   ],
   "source": [
    "clf = svm.SVC(kernel='rbf', degree=1)\n",
    "clf.fit(xtrain,ytrain)\n",
    "yhat = clf.predict(xtest)\n",
    "print(metrics.accuracy_score(ytest,yhat))"
   ]
  },
  {
   "cell_type": "code",
   "execution_count": 57,
   "id": "9c9b362f",
   "metadata": {},
   "outputs": [
    {
     "name": "stdout",
     "output_type": "stream",
     "text": [
      "0.46447478406241294\n"
     ]
    }
   ],
   "source": [
    "from sklearn.neighbors import KNeighborsClassifier\n",
    "K = 7\n",
    "neigh = KNeighborsClassifier(n_neighbors=K).fit(xtrain,ytrain)\n",
    "yhatKNN = neigh.predict(xtest)\n",
    "print(metrics.accuracy_score(ytest,yhatKNN))"
   ]
  },
  {
   "cell_type": "code",
   "execution_count": 68,
   "id": "50cf2860",
   "metadata": {},
   "outputs": [
    {
     "name": "stdout",
     "output_type": "stream",
     "text": [
      "0.28893842295904154\n"
     ]
    }
   ],
   "source": [
    "tree = DecisionTreeClassifier(max_depth=3,random_state=42)\n",
    "tree.fit(xtrain,ytrain)\n",
    "yhattree = tree.predict(xtest)\n",
    "print(metrics.accuracy_score(ytest,yhattree))"
   ]
  },
  {
   "cell_type": "code",
   "execution_count": 73,
   "id": "cbcded0f",
   "metadata": {},
   "outputs": [
    {
     "name": "stdout",
     "output_type": "stream",
     "text": [
      "The Training Accuracy for max_depth 1 is: 0.2513149186666202\n",
      "The Validation Accuracy for max_depth 1 is: 0.24714405126776262\n",
      "\n",
      "The Training Accuracy for max_depth 2 is: 0.28848096415758123\n",
      "The Validation Accuracy for max_depth 2 is: 0.2832265254945667\n",
      "\n",
      "The Training Accuracy for max_depth 3 is: 0.29502943327876274\n",
      "The Validation Accuracy for max_depth 3 is: 0.28893842295904154\n",
      "\n",
      "The Training Accuracy for max_depth 4 is: 0.3187850499843255\n",
      "The Validation Accuracy for max_depth 4 is: 0.3138757314015046\n",
      "\n",
      "The Training Accuracy for max_depth 5 is: 0.3336236023546623\n",
      "The Validation Accuracy for max_depth 5 is: 0.3200055725828922\n",
      "\n",
      "The Training Accuracy for max_depth 6 is: 0.3504475948308893\n",
      "The Validation Accuracy for max_depth 6 is: 0.3225132348843689\n",
      "\n",
      "The Training Accuracy for max_depth 7 is: 0.37427287610157095\n",
      "The Validation Accuracy for max_depth 7 is: 0.3258567846196712\n",
      "\n",
      "The Training Accuracy for max_depth 8 is: 0.40711971855515694\n",
      "The Validation Accuracy for max_depth 8 is: 0.3232098077458902\n",
      "\n",
      "The Training Accuracy for max_depth 9 is: 0.45013758751610994\n",
      "The Validation Accuracy for max_depth 9 is: 0.32529952633045417\n",
      "\n",
      "The Training Accuracy for max_depth 10 is: 0.5082726671078756\n",
      "The Validation Accuracy for max_depth 10 is: 0.32432432432432434\n",
      "\n",
      "The Training Accuracy for max_depth 11 is: 0.5763697795116514\n",
      "The Validation Accuracy for max_depth 11 is: 0.3218166620228476\n",
      "\n",
      "The Training Accuracy for max_depth 12 is: 0.6494130760388728\n",
      "The Validation Accuracy for max_depth 12 is: 0.3211200891613263\n",
      "\n",
      "The Training Accuracy for max_depth 13 is: 0.7217248946323452\n",
      "The Validation Accuracy for max_depth 13 is: 0.3200055725828922\n",
      "\n",
      "The Training Accuracy for max_depth 14 is: 0.7874882441046361\n",
      "The Validation Accuracy for max_depth 14 is: 0.31819448314293675\n",
      "\n",
      "The Training Accuracy for max_depth 15 is: 0.8441952001114633\n",
      "The Validation Accuracy for max_depth 15 is: 0.31777653942602396\n",
      "\n",
      "The Training Accuracy for max_depth 16 is: 0.8885018635271169\n",
      "The Validation Accuracy for max_depth 16 is: 0.3190303705767623\n",
      "\n",
      "The Training Accuracy for max_depth 17 is: 0.9202689052213592\n",
      "The Validation Accuracy for max_depth 17 is: 0.3218166620228476\n",
      "\n",
      "The Training Accuracy for max_depth 18 is: 0.9456268069246577\n",
      "The Validation Accuracy for max_depth 18 is: 0.3225132348843689\n",
      "\n",
      "The Training Accuracy for max_depth 19 is: 0.9647845623323696\n",
      "The Validation Accuracy for max_depth 19 is: 0.323627751462803\n",
      "\n",
      "The Training Accuracy for max_depth 20 is: 0.9764533769897942\n",
      "The Validation Accuracy for max_depth 20 is: 0.3248815826135414\n",
      "\n"
     ]
    }
   ],
   "source": [
    "for max_d in range(1,21):\n",
    "    model = DecisionTreeClassifier(max_depth=max_d, random_state=42)\n",
    "    model.fit(xtrain,ytrain)\n",
    "    print('The Training Accuracy for max_depth {} is:'.format(max_d), model.score(xtrain,ytrain))\n",
    "    print('The Validation Accuracy for max_depth {} is:'.format(max_d), model.score(xtest,ytest))\n",
    "    print('')"
   ]
  },
  {
   "cell_type": "code",
   "execution_count": 27,
   "id": "65efb46d",
   "metadata": {},
   "outputs": [
    {
     "name": "stdout",
     "output_type": "stream",
     "text": [
      "[[0.13883522 0.01246783 0.09510223 ... 0.30553867 0.29942576 0.0493979 ]\n",
      " [0.20288571 0.01755619 0.14295456 ... 0.1347073  0.1919263  0.01745911]\n",
      " [0.20320426 0.01211616 0.15967852 ... 0.14070932 0.2820327  0.07611405]\n",
      " ...\n",
      " [0.05322208 0.00967311 0.12429341 ... 0.12849242 0.07007251 0.48300722]\n",
      " [0.25874617 0.04068548 0.22618293 ... 0.07160503 0.08975757 0.26066724]\n",
      " [0.10299196 0.00978886 0.16904958 ... 0.17253547 0.08282248 0.30231242]]\n"
     ]
    }
   ],
   "source": [
    "from sklearn.linear_model import LogisticRegression\n",
    "from sklearn.metrics import confusion_matrix,classification_report\n",
    "LR = LogisticRegression(C=0.01,solver='liblinear').fit(xtrain,ytrain)\n",
    "yhatLR = LR.predict(xtest)\n",
    "print(LR.predict_proba(xtest))"
   ]
  },
  {
   "cell_type": "code",
   "execution_count": 48,
   "id": "279c3858",
   "metadata": {},
   "outputs": [
    {
     "name": "stdout",
     "output_type": "stream",
     "text": [
      "[[ 189    0   62  310  181  166   50]\n",
      " [  34    0    8   36    9   20    4]\n",
      " [  86    0  158  322  187  152  119]\n",
      " [  46    0   39 1472   78  117   22]\n",
      " [  63    0   65  358  541  151   55]\n",
      " [ 122    0   72  407  275  333   38]\n",
      " [  47    0   60  174  101   57  392]]\n",
      "              precision    recall  f1-score   support\n",
      "\n",
      "       angry       0.32      0.20      0.24       958\n",
      "     disgust       0.00      0.00      0.00       111\n",
      "        fear       0.34      0.15      0.21      1024\n",
      "       happy       0.48      0.83      0.61      1774\n",
      "     neutral       0.39      0.44      0.42      1233\n",
      "         sad       0.33      0.27      0.30      1247\n",
      "    surprise       0.58      0.47      0.52       831\n",
      "\n",
      "    accuracy                           0.43      7178\n",
      "   macro avg       0.35      0.34      0.33      7178\n",
      "weighted avg       0.40      0.43      0.40      7178\n",
      "\n"
     ]
    },
    {
     "name": "stderr",
     "output_type": "stream",
     "text": [
      "C:\\Users\\AnirudhCV\\anaconda3\\lib\\site-packages\\sklearn\\metrics\\_classification.py:1318: UndefinedMetricWarning: Precision and F-score are ill-defined and being set to 0.0 in labels with no predicted samples. Use `zero_division` parameter to control this behavior.\n",
      "  _warn_prf(average, modifier, msg_start, len(result))\n",
      "C:\\Users\\AnirudhCV\\anaconda3\\lib\\site-packages\\sklearn\\metrics\\_classification.py:1318: UndefinedMetricWarning: Precision and F-score are ill-defined and being set to 0.0 in labels with no predicted samples. Use `zero_division` parameter to control this behavior.\n",
      "  _warn_prf(average, modifier, msg_start, len(result))\n",
      "C:\\Users\\AnirudhCV\\anaconda3\\lib\\site-packages\\sklearn\\metrics\\_classification.py:1318: UndefinedMetricWarning: Precision and F-score are ill-defined and being set to 0.0 in labels with no predicted samples. Use `zero_division` parameter to control this behavior.\n",
      "  _warn_prf(average, modifier, msg_start, len(result))\n"
     ]
    }
   ],
   "source": [
    "print(confusion_matrix(ytest,yhatLR))\n",
    "print(classification_report(ytest,yhatLR))"
   ]
  },
  {
   "cell_type": "code",
   "execution_count": 49,
   "id": "dc71b422",
   "metadata": {},
   "outputs": [
    {
     "name": "stdout",
     "output_type": "stream",
     "text": [
      "0.3958746528798058\n"
     ]
    }
   ],
   "source": [
    "from sklearn.metrics import f1_score\n",
    "print(f1_score(ytest,yhatLR,average='weighted'))"
   ]
  },
  {
   "cell_type": "code",
   "execution_count": null,
   "id": "afa76b2f",
   "metadata": {},
   "outputs": [],
   "source": []
  }
 ],
 "metadata": {
  "kernelspec": {
   "display_name": "Python 3 (ipykernel)",
   "language": "python",
   "name": "python3"
  },
  "language_info": {
   "codemirror_mode": {
    "name": "ipython",
    "version": 3
   },
   "file_extension": ".py",
   "mimetype": "text/x-python",
   "name": "python",
   "nbconvert_exporter": "python",
   "pygments_lexer": "ipython3",
   "version": "3.9.12"
  }
 },
 "nbformat": 4,
 "nbformat_minor": 5
}
